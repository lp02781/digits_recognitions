{
 "cells": [
  {
   "cell_type": "markdown",
   "metadata": {
    "execution": {
     "iopub.execute_input": "2021-10-16T01:24:29.612128Z",
     "iopub.status.busy": "2021-10-16T01:24:29.611542Z",
     "iopub.status.idle": "2021-10-16T01:24:31.066819Z",
     "shell.execute_reply": "2021-10-16T01:24:31.067253Z"
    },
    "id": "0trJmd6DjqBZ"
   },
   "source": [
    "https://www.tensorflow.org/tutorials/quickstart/beginner"
   ]
  },
  {
   "cell_type": "code",
   "execution_count": 2,
   "metadata": {},
   "outputs": [
    {
     "name": "stdout",
     "output_type": "stream",
     "text": [
      "TensorFlow version: 1.14.0\n"
     ]
    }
   ],
   "source": [
    "import tensorflow as tf\n",
    "import matplotlib.pyplot as plt\n",
    "import numpy as np\n",
    "tf.compat.v1.enable_eager_execution()\n",
    "print(\"TensorFlow version:\", tf.__version__)"
   ]
  },
  {
   "cell_type": "code",
   "execution_count": 3,
   "metadata": {
    "execution": {
     "iopub.execute_input": "2021-10-16T01:24:31.072246Z",
     "iopub.status.busy": "2021-10-16T01:24:31.071670Z",
     "iopub.status.idle": "2021-10-16T01:24:32.176991Z",
     "shell.execute_reply": "2021-10-16T01:24:32.176442Z"
    },
    "id": "7FP5258xjs-v"
   },
   "outputs": [],
   "source": [
    "mnist = tf.keras.datasets.mnist\n",
    "\n",
    "(x_train, y_train), (x_test, y_test) = mnist.load_data()\n",
    "x_train, x_test = x_train / 255.0, x_test / 255.0"
   ]
  },
  {
   "cell_type": "code",
   "execution_count": 4,
   "metadata": {},
   "outputs": [],
   "source": [
    "class_names = ['0', '1', '2', '3', '4',\n",
    "               '5', '6', '7', '8', '9']"
   ]
  },
  {
   "cell_type": "code",
   "execution_count": 5,
   "metadata": {},
   "outputs": [
    {
     "data": {
      "image/png": "[encoded data removed]",
      "text/plain": [
       "<Figure size 720x720 with 25 Axes>"
      ]
     },
     "metadata": {},
     "output_type": "display_data"
    }
   ],
   "source": [
    "plt.figure(figsize=(10,10))\n",
    "for i in range(25):\n",
    "    plt.subplot(5,5,i+1)\n",
    "    plt.xticks([])\n",
    "    plt.yticks([])\n",
    "    plt.grid(False)\n",
    "    plt.imshow(x_train[i], cmap=plt.cm.binary)\n",
    "    plt.xlabel(class_names[y_train[i]])\n",
    "plt.show()\n"
   ]
  },
  {
   "cell_type": "code",
   "execution_count": 6,
   "metadata": {
    "execution": {
     "iopub.execute_input": "2021-10-16T01:24:32.183078Z",
     "iopub.status.busy": "2021-10-16T01:24:32.181715Z",
     "iopub.status.idle": "2021-10-16T01:24:33.768116Z",
     "shell.execute_reply": "2021-10-16T01:24:33.767602Z"
    },
    "id": "h3IKyzTCDNGo"
   },
   "outputs": [],
   "source": [
    "model = tf.keras.models.Sequential([\n",
    "  tf.keras.layers.Flatten(input_shape=(28, 28)),\n",
    "  tf.keras.layers.Dense(128, activation='relu'),\n",
    "  tf.keras.layers.Dropout(0.2),\n",
    "  tf.keras.layers.Dense(10)\n",
    "])"
   ]
  },
  {
   "cell_type": "code",
   "execution_count": 7,
   "metadata": {
    "execution": {
     "iopub.execute_input": "2021-10-16T01:24:33.773688Z",
     "iopub.status.busy": "2021-10-16T01:24:33.772660Z",
     "iopub.status.idle": "2021-10-16T01:24:34.172991Z",
     "shell.execute_reply": "2021-10-16T01:24:34.173387Z"
    },
    "id": "OeOrNdnkEEcR"
   },
   "outputs": [
    {
     "data": {
      "text/plain": [
       "array([[ 0.04842866, -0.97709477, -0.61941266, -0.4757914 , -0.3897296 ,\n",
       "         0.22721682,  0.07390819,  0.08967537,  0.08383504,  0.6470493 ]],\n",
       "      dtype=float32)"
      ]
     },
     "execution_count": 7,
     "metadata": {},
     "output_type": "execute_result"
    }
   ],
   "source": [
    "predictions = model(x_train[:1]).numpy()\n",
    "predictions"
   ]
  },
  {
   "cell_type": "code",
   "execution_count": 8,
   "metadata": {
    "execution": {
     "iopub.execute_input": "2021-10-16T01:24:34.178697Z",
     "iopub.status.busy": "2021-10-16T01:24:34.177367Z",
     "iopub.status.idle": "2021-10-16T01:24:34.181089Z",
     "shell.execute_reply": "2021-10-16T01:24:34.181506Z"
    },
    "id": "zWSRnQ0WI5eq"
   },
   "outputs": [
    {
     "data": {
      "text/plain": [
       "array([[0.10836589, 0.03886095, 0.05557159, 0.06415445, 0.06992024,\n",
       "        0.12958041, 0.1111625 , 0.1129291 , 0.11227148, 0.19718337]],\n",
       "      dtype=float32)"
      ]
     },
     "execution_count": 8,
     "metadata": {},
     "output_type": "execute_result"
    }
   ],
   "source": [
    "tf.nn.softmax(predictions).numpy()"
   ]
  },
  {
   "cell_type": "code",
   "execution_count": 9,
   "metadata": {
    "execution": {
     "iopub.execute_input": "2021-10-16T01:24:34.186077Z",
     "iopub.status.busy": "2021-10-16T01:24:34.185495Z",
     "iopub.status.idle": "2021-10-16T01:24:34.187187Z",
     "shell.execute_reply": "2021-10-16T01:24:34.187546Z"
    },
    "id": "RSkzdv8MD0tT"
   },
   "outputs": [],
   "source": [
    "loss_fn = tf.keras.losses.SparseCategoricalCrossentropy(from_logits=True)"
   ]
  },
  {
   "cell_type": "code",
   "execution_count": 10,
   "metadata": {
    "execution": {
     "iopub.execute_input": "2021-10-16T01:24:34.192499Z",
     "iopub.status.busy": "2021-10-16T01:24:34.191863Z",
     "iopub.status.idle": "2021-10-16T01:24:34.197821Z",
     "shell.execute_reply": "2021-10-16T01:24:34.197338Z"
    },
    "id": "NJWqEVrrJ7ZB"
   },
   "outputs": [
    {
     "data": {
      "text/plain": [
       "2.0434537"
      ]
     },
     "execution_count": 10,
     "metadata": {},
     "output_type": "execute_result"
    }
   ],
   "source": [
    "loss_fn(y_train[:1], predictions).numpy()"
   ]
  },
  {
   "cell_type": "code",
   "execution_count": 11,
   "metadata": {
    "execution": {
     "iopub.execute_input": "2021-10-16T01:24:34.204773Z",
     "iopub.status.busy": "2021-10-16T01:24:34.204245Z",
     "iopub.status.idle": "2021-10-16T01:24:34.209658Z",
     "shell.execute_reply": "2021-10-16T01:24:34.210040Z"
    },
    "id": "9foNKHzTD2Vo"
   },
   "outputs": [],
   "source": [
    "model.compile(optimizer='adam',\n",
    "              loss=loss_fn,\n",
    "              metrics=['accuracy'])"
   ]
  },
  {
   "cell_type": "code",
   "execution_count": 12,
   "metadata": {
    "execution": {
     "iopub.execute_input": "2021-10-16T01:24:34.214280Z",
     "iopub.status.busy": "2021-10-16T01:24:34.213662Z",
     "iopub.status.idle": "2021-10-16T01:24:50.246482Z",
     "shell.execute_reply": "2021-10-16T01:24:50.246882Z"
    },
    "id": "y7suUbJXVLqP"
   },
   "outputs": [
    {
     "name": "stdout",
     "output_type": "stream",
     "text": [
      "Epoch 1/5\n",
      "60000/60000 [==============================] - 4s 61us/sample - loss: 0.2967 - acc: 0.9127\n",
      "Epoch 2/5\n",
      "60000/60000 [==============================] - 3s 46us/sample - loss: 0.1388 - acc: 0.9583\n",
      "Epoch 3/5\n",
      "60000/60000 [==============================] - 3s 48us/sample - loss: 0.1058 - acc: 0.9671\n",
      "Epoch 4/5\n",
      "60000/60000 [==============================] - 3s 44us/sample - loss: 0.0858 - acc: 0.9736\n",
      "Epoch 5/5\n",
      "60000/60000 [==============================] - 3s 51us/sample - loss: 0.0767 - acc: 0.9755\n"
     ]
    },
    {
     "data": {
      "text/plain": [
       "<tensorflow.python.keras.callbacks.History at 0x7f2bdb528860>"
      ]
     },
     "execution_count": 12,
     "metadata": {},
     "output_type": "execute_result"
    }
   ],
   "source": [
    "model.fit(x_train, y_train, epochs=5)"
   ]
  },
  {
   "cell_type": "code",
   "execution_count": 13,
   "metadata": {
    "execution": {
     "iopub.execute_input": "2021-10-16T01:24:50.251134Z",
     "iopub.status.busy": "2021-10-16T01:24:50.250511Z",
     "iopub.status.idle": "2021-10-16T01:24:50.797556Z",
     "shell.execute_reply": "2021-10-16T01:24:50.796970Z"
    },
    "id": "F7dTAzgHDUh7"
   },
   "outputs": [
    {
     "name": "stdout",
     "output_type": "stream",
     "text": [
      "10000/10000 - 0s - loss: 0.0721 - acc: 0.9782\n"
     ]
    },
    {
     "data": {
      "text/plain": [
       "[0.07211381737980992, 0.9782]"
      ]
     },
     "execution_count": 13,
     "metadata": {},
     "output_type": "execute_result"
    }
   ],
   "source": [
    "model.evaluate(x_test,  y_test, verbose=2)"
   ]
  },
  {
   "cell_type": "code",
   "execution_count": 14,
   "metadata": {},
   "outputs": [
    {
     "name": "stdout",
     "output_type": "stream",
     "text": [
      "Model: \"sequential\"\n",
      "_________________________________________________________________\n",
      "Layer (type)                 Output Shape              Param #   \n",
      "=================================================================\n",
      "flatten (Flatten)            (None, 784)               0         \n",
      "_________________________________________________________________\n",
      "dense (Dense)                (None, 128)               100480    \n",
      "_________________________________________________________________\n",
      "dropout (Dropout)            (None, 128)               0         \n",
      "_________________________________________________________________\n",
      "dense_1 (Dense)              (None, 10)                1290      \n",
      "=================================================================\n",
      "Total params: 101,770\n",
      "Trainable params: 101,770\n",
      "Non-trainable params: 0\n",
      "_________________________________________________________________\n"
     ]
    }
   ],
   "source": [
    "model.summary()"
   ]
  },
  {
   "cell_type": "code",
   "execution_count": 15,
   "metadata": {},
   "outputs": [],
   "source": [
    "model.save_weights('./model/hehe')"
   ]
  },
  {
   "cell_type": "code",
   "execution_count": 16,
   "metadata": {},
   "outputs": [],
   "source": [
    "model_new = tf.keras.models.Sequential([\n",
    "  tf.keras.layers.Flatten(input_shape=(28, 28)),\n",
    "  tf.keras.layers.Dense(128, activation='relu'),\n",
    "  tf.keras.layers.Dropout(0.2),\n",
    "  tf.keras.layers.Dense(10)\n",
    "])"
   ]
  },
  {
   "cell_type": "code",
   "execution_count": 17,
   "metadata": {},
   "outputs": [
    {
     "data": {
      "text/plain": [
       "<tensorflow.python.training.tracking.util.CheckpointLoadStatus at 0x7f2bdb528c50>"
      ]
     },
     "execution_count": 17,
     "metadata": {},
     "output_type": "execute_result"
    }
   ],
   "source": [
    "model_new.load_weights('./model/hehe')"
   ]
  },
  {
   "cell_type": "code",
   "execution_count": 18,
   "metadata": {
    "execution": {
     "iopub.execute_input": "2021-10-16T01:24:50.803396Z",
     "iopub.status.busy": "2021-10-16T01:24:50.802766Z",
     "iopub.status.idle": "2021-10-16T01:24:50.818400Z",
     "shell.execute_reply": "2021-10-16T01:24:50.817899Z"
    },
    "id": "rYb6DrEH0GMv"
   },
   "outputs": [],
   "source": [
    "probability_model = tf.keras.Sequential([\n",
    "  model_new,\n",
    "  tf.keras.layers.Softmax()\n",
    "])"
   ]
  },
  {
   "cell_type": "code",
   "execution_count": 19,
   "metadata": {
    "execution": {
     "iopub.execute_input": "2021-10-16T01:24:50.823136Z",
     "iopub.status.busy": "2021-10-16T01:24:50.822509Z",
     "iopub.status.idle": "2021-10-16T01:24:50.827422Z",
     "shell.execute_reply": "2021-10-16T01:24:50.827795Z"
    },
    "id": "cnqOZtUp1YR_",
    "scrolled": true
   },
   "outputs": [
    {
     "data": {
      "text/plain": [
       "<tf.Tensor: id=68469, shape=(5, 10), dtype=float32, numpy=\n",
       "array([[1.3400551e-08, 3.1531204e-09, 2.9662312e-06, 4.1232858e-04,\n",
       "        1.7949027e-12, 1.1673336e-07, 2.0238277e-14, 9.9958402e-01,\n",
       "        2.1233063e-07, 4.2704951e-07],\n",
       "       [5.2673749e-10, 2.8901664e-05, 9.9996769e-01, 3.3465487e-06,\n",
       "        6.9641958e-16, 3.1169454e-09, 1.0696098e-10, 1.8780418e-12,\n",
       "        1.2716682e-08, 3.8371467e-14],\n",
       "       [3.8797864e-07, 9.9877077e-01, 5.8513886e-04, 1.0684810e-05,\n",
       "        3.7824484e-05, 8.7764965e-06, 2.9785311e-05, 2.5798570e-04,\n",
       "        2.9762555e-04, 9.0968587e-07],\n",
       "       [9.9975854e-01, 3.0848307e-10, 4.2520132e-05, 7.5304136e-08,\n",
       "        1.2361336e-07, 4.0401210e-07, 1.3746876e-04, 6.0280356e-05,\n",
       "        7.4997644e-09, 6.1084404e-07],\n",
       "       [3.5713501e-06, 1.9077214e-08, 9.9747476e-06, 2.1540976e-07,\n",
       "        9.9097860e-01, 1.9116634e-07, 1.9592146e-06, 3.7419417e-05,\n",
       "        1.7538488e-06, 8.9663994e-03]], dtype=float32)>"
      ]
     },
     "execution_count": 19,
     "metadata": {},
     "output_type": "execute_result"
    }
   ],
   "source": [
    "probability_model(x_test[:5])"
   ]
  },
  {
   "cell_type": "code",
   "execution_count": 20,
   "metadata": {},
   "outputs": [
    {
     "data": {
      "image/png": "[encoded data removed]",
      "text/plain": [
       "<Figure size 720x720 with 25 Axes>"
      ]
     },
     "metadata": {},
     "output_type": "display_data"
    }
   ],
   "source": [
    "plt.figure(figsize=(10,10))\n",
    "for i in range(25):\n",
    "    plt.subplot(5,5,i+1)\n",
    "    plt.xticks([])\n",
    "    plt.yticks([])\n",
    "    plt.grid(False)\n",
    "    plt.imshow(x_test[i], cmap=plt.cm.binary)\n",
    "    plt.xlabel(class_names[y_test[i]])\n",
    "plt.show()"
   ]
  },
  {
   "cell_type": "code",
   "execution_count": 21,
   "metadata": {},
   "outputs": [],
   "source": [
    "def plot_image(i, predictions_array, true_label, img):\n",
    "  true_label, img = true_label[i], img[i]\n",
    "  plt.grid(False)\n",
    "  plt.xticks([])\n",
    "  plt.yticks([])\n",
    "\n",
    "  plt.imshow(img, cmap=plt.cm.binary)\n",
    "\n",
    "  predicted_label = np.argmax(predictions_array)\n",
    "  if predicted_label == true_label:\n",
    "    color = 'blue'\n",
    "  else:\n",
    "    color = 'red'\n",
    "\n",
    "  plt.xlabel(\"{} {:2.0f}% ({})\".format(class_names[predicted_label],\n",
    "                                100*np.max(predictions_array),\n",
    "                                class_names[true_label]),\n",
    "                                color=color)\n",
    "\n",
    "def plot_value_array(i, predictions_array, true_label):\n",
    "  true_label = true_label[i]\n",
    "  plt.grid(False)\n",
    "  plt.xticks(range(10))\n",
    "  plt.yticks([])\n",
    "  thisplot = plt.bar(range(10), predictions_array, color=\"#777777\")\n",
    "  plt.ylim([0, 1])\n",
    "  predicted_label = np.argmax(predictions_array)\n"
   ]
  },
  {
   "cell_type": "code",
   "execution_count": 22,
   "metadata": {},
   "outputs": [],
   "source": [
    "predictions = probability_model.predict(x_test)"
   ]
  },
  {
   "cell_type": "code",
   "execution_count": 23,
   "metadata": {},
   "outputs": [
    {
     "data": {
      "image/png": "[encoded data removed]",
      "text/plain": [
       "<Figure size 432x216 with 2 Axes>"
      ]
     },
     "metadata": {
      "needs_background": "light"
     },
     "output_type": "display_data"
    }
   ],
   "source": [
    "i = 2\n",
    "plt.figure(figsize=(6,3))\n",
    "plt.subplot(1,2,1)\n",
    "plot_image(i, predictions[i], y_test, x_test)\n",
    "plt.subplot(1,2,2)\n",
    "plot_value_array(i, predictions[i],  y_test)\n",
    "plt.show()"
   ]
  },
  {
   "cell_type": "code",
   "execution_count": 24,
   "metadata": {},
   "outputs": [
    {
     "data": {
      "image/png": "[encoded data removed]",
      "text/plain": [
       "<Figure size 864x720 with 30 Axes>"
      ]
     },
     "metadata": {
      "needs_background": "light"
     },
     "output_type": "display_data"
    }
   ],
   "source": [
    "num_rows = 5\n",
    "num_cols = 3\n",
    "num_images = num_rows*num_cols\n",
    "plt.figure(figsize=(2*2*num_cols, 2*num_rows))\n",
    "for i in range(num_images):\n",
    "  plt.subplot(num_rows, 2*num_cols, 2*i+1)\n",
    "  plot_image(i, predictions[i], y_test, x_test)\n",
    "  plt.subplot(num_rows, 2*num_cols, 2*i+2)\n",
    "  plot_value_array(i, predictions[i],  y_test)\n",
    "plt.tight_layout()\n",
    "plt.show()\n"
   ]
  },
  {
   "cell_type": "code",
   "execution_count": null,
   "metadata": {},
   "outputs": [],
   "source": []
  }
 ],
 "metadata": {
  "colab": {
   "collapsed_sections": [
    "rX8mhOLljYeM"
   ],
   "name": "beginner.ipynb",
   "toc_visible": true
  },
  "kernelspec": {
   "display_name": "Python 3",
   "language": "python",
   "name": "python3"
  },
  "language_info": {
   "codemirror_mode": {
    "name": "ipython",
    "version": 3
   },
   "file_extension": ".py",
   "mimetype": "text/x-python",
   "name": "python",
   "nbconvert_exporter": "python",
   "pygments_lexer": "ipython3",
   "version": "3.6.9"
  }
 },
 "nbformat": 4,
 "nbformat_minor": 1
}
